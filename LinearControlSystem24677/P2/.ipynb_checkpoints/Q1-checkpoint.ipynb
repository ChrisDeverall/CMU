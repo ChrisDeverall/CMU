{
 "cells": [
  {
   "cell_type": "code",
   "execution_count": 38,
   "metadata": {},
   "outputs": [],
   "source": [
    "import numpy as np\n",
    "import matplotlib.pyplot as plt\n",
    "import control\n",
    "from numpy.linalg import matrix_rank\n"
   ]
  },
  {
   "cell_type": "markdown",
   "metadata": {},
   "source": [
    "## Exercise 1. 1."
   ]
  },
  {
   "cell_type": "code",
   "execution_count": 39,
   "metadata": {},
   "outputs": [
    {
     "name": "stdout",
     "output_type": "stream",
     "text": [
      "the rank of the controllability matrix when vx =  2 is\n",
      "4\n",
      "the rank of the observability matrix when vx =  2 is\n",
      "4\n",
      "the rank of the controllability matrix when vx =  5 is\n",
      "4\n",
      "the rank of the observability matrix when vx =  5 is\n",
      "4\n",
      "the rank of the controllability matrix when vx =  8 is\n",
      "4\n",
      "the rank of the observability matrix when vx =  8 is\n",
      "4\n",
      "therefore the system is controllable and observable\n"
     ]
    }
   ],
   "source": [
    "\n",
    "m = 1888.6;\n",
    "ca = 20000;\n",
    "lf = 1.55;\n",
    "lr = 1.39;\n",
    "iz = 25854;\n",
    "for i in range(3):\n",
    "    if i == 0:\n",
    "        vx = 2;\n",
    "    elif i == 1:\n",
    "        vx = 5;\n",
    "    else:\n",
    "        vx = 8;\n",
    "    A = np.array([[0,1,0,0],\n",
    "        [0,-4*ca/(m*vx),4*ca/m,-2*ca*(lf-lr)/(m*vx)],\n",
    "        [0,0,0,1],\n",
    "        [0,-2*ca*(lf-lr)/(iz*vx),2*ca*(lf-lr)/iz,-2*ca*(lf**2+lr**2)/(iz*vx)]]);\n",
    "    B = np.array([[0,0],\n",
    "        [2*ca/m,0],\n",
    "        [0,0],\n",
    "        [2*ca*lf/iz,0]]);\n",
    "\n",
    "    C = np.array([[1,0,0,0],\n",
    "        [0,1,0,0],\n",
    "        [0,0,1,0],\n",
    "        [0,0,0,1]]);\n",
    "\n",
    "    P = np.hstack((B, np.matmul(A, B), np.matmul(np.linalg.matrix_power(A, 2), B), np.matmul(np.linalg.matrix_power(A, 3), B)))\n",
    "    rP = matrix_rank(P)\n",
    "    print('the rank of the controllability matrix when vx = ', vx, 'is')\n",
    "    print(rP)\n",
    "    Q = np.vstack((C, np.matmul(C, A), np.matmul(C, np.linalg.matrix_power(A, 2)), np.matmul(C, np.linalg.matrix_power(A, 3))))\n",
    "    rQ = matrix_rank(Q)\n",
    "    print('the rank of the observability matrix when vx = ', vx, 'is')\n",
    "    print(rQ)\n",
    "print('therefore the system is controllable and observable')"
   ]
  },
  {
   "cell_type": "markdown",
   "metadata": {},
   "source": [
    "## Exercise 1. 2.a"
   ]
  },
  {
   "cell_type": "code",
   "execution_count": 40,
   "metadata": {},
   "outputs": [
    {
     "ename": "ValueError",
     "evalue": "B and D must have the same number of columns.",
     "output_type": "error",
     "traceback": [
      "\u001b[1;31m---------------------------------------------------------------------------\u001b[0m",
      "\u001b[1;31mValueError\u001b[0m                                Traceback (most recent call last)",
      "\u001b[1;32m<ipython-input-40-b0ff09645de1>\u001b[0m in \u001b[0;36m<module>\u001b[1;34m\u001b[0m\n\u001b[0;32m     23\u001b[0m     \u001b[0msn\u001b[0m \u001b[1;33m=\u001b[0m \u001b[0mmin\u001b[0m\u001b[1;33m(\u001b[0m\u001b[0ms\u001b[0m\u001b[1;33m)\u001b[0m\u001b[1;33m\u001b[0m\u001b[1;33m\u001b[0m\u001b[0m\n\u001b[0;32m     24\u001b[0m     \u001b[0my\u001b[0m\u001b[1;33m.\u001b[0m\u001b[0mappend\u001b[0m\u001b[1;33m(\u001b[0m\u001b[0mnp\u001b[0m\u001b[1;33m.\u001b[0m\u001b[0mlog10\u001b[0m\u001b[1;33m(\u001b[0m\u001b[0ms1\u001b[0m \u001b[1;33m/\u001b[0m \u001b[0msn\u001b[0m\u001b[1;33m)\u001b[0m\u001b[1;33m)\u001b[0m\u001b[1;33m\u001b[0m\u001b[1;33m\u001b[0m\u001b[0m\n\u001b[1;32m---> 25\u001b[1;33m     \u001b[0msys\u001b[0m \u001b[1;33m=\u001b[0m \u001b[0mcontrol\u001b[0m\u001b[1;33m.\u001b[0m\u001b[0mStateSpace\u001b[0m\u001b[1;33m(\u001b[0m\u001b[0mA\u001b[0m\u001b[1;33m,\u001b[0m \u001b[0mB\u001b[0m\u001b[1;33m,\u001b[0m \u001b[0mC\u001b[0m\u001b[1;33m,\u001b[0m \u001b[0mD\u001b[0m\u001b[1;33m)\u001b[0m\u001b[1;33m\u001b[0m\u001b[1;33m\u001b[0m\u001b[0m\n\u001b[0m\u001b[0;32m     26\u001b[0m     \u001b[0mpoles\u001b[0m \u001b[1;33m=\u001b[0m \u001b[0mcontrol\u001b[0m\u001b[1;33m.\u001b[0m\u001b[0mpole\u001b[0m\u001b[1;33m(\u001b[0m\u001b[0msys\u001b[0m\u001b[1;33m)\u001b[0m\u001b[1;33m\u001b[0m\u001b[1;33m\u001b[0m\u001b[0m\n\u001b[0;32m     27\u001b[0m     \u001b[1;32mfor\u001b[0m \u001b[0mj\u001b[0m \u001b[1;32min\u001b[0m \u001b[0mrange\u001b[0m\u001b[1;33m(\u001b[0m\u001b[1;36m4\u001b[0m\u001b[1;33m)\u001b[0m\u001b[1;33m:\u001b[0m\u001b[1;33m\u001b[0m\u001b[1;33m\u001b[0m\u001b[0m\n",
      "\u001b[1;32mD:\\Program Files (x86)\\Anaconda\\lib\\site-packages\\control\\statesp.py\u001b[0m in \u001b[0;36m__init__\u001b[1;34m(self, *args, **kw)\u001b[0m\n\u001b[0;32m    228\u001b[0m             \u001b[1;32mraise\u001b[0m \u001b[0mValueError\u001b[0m\u001b[1;33m(\u001b[0m\u001b[1;34m\"A and C must have the same number of columns.\"\u001b[0m\u001b[1;33m)\u001b[0m\u001b[1;33m\u001b[0m\u001b[1;33m\u001b[0m\u001b[0m\n\u001b[0;32m    229\u001b[0m         \u001b[1;32mif\u001b[0m \u001b[0mself\u001b[0m\u001b[1;33m.\u001b[0m\u001b[0minputs\u001b[0m \u001b[1;33m!=\u001b[0m \u001b[0mB\u001b[0m\u001b[1;33m.\u001b[0m\u001b[0mshape\u001b[0m\u001b[1;33m[\u001b[0m\u001b[1;36m1\u001b[0m\u001b[1;33m]\u001b[0m\u001b[1;33m:\u001b[0m\u001b[1;33m\u001b[0m\u001b[1;33m\u001b[0m\u001b[0m\n\u001b[1;32m--> 230\u001b[1;33m             \u001b[1;32mraise\u001b[0m \u001b[0mValueError\u001b[0m\u001b[1;33m(\u001b[0m\u001b[1;34m\"B and D must have the same number of columns.\"\u001b[0m\u001b[1;33m)\u001b[0m\u001b[1;33m\u001b[0m\u001b[1;33m\u001b[0m\u001b[0m\n\u001b[0m\u001b[0;32m    231\u001b[0m         \u001b[1;32mif\u001b[0m \u001b[0mself\u001b[0m\u001b[1;33m.\u001b[0m\u001b[0moutputs\u001b[0m \u001b[1;33m!=\u001b[0m \u001b[0mC\u001b[0m\u001b[1;33m.\u001b[0m\u001b[0mshape\u001b[0m\u001b[1;33m[\u001b[0m\u001b[1;36m0\u001b[0m\u001b[1;33m]\u001b[0m\u001b[1;33m:\u001b[0m\u001b[1;33m\u001b[0m\u001b[1;33m\u001b[0m\u001b[0m\n\u001b[0;32m    232\u001b[0m             \u001b[1;32mraise\u001b[0m \u001b[0mValueError\u001b[0m\u001b[1;33m(\u001b[0m\u001b[1;34m\"C and D must have the same number of rows.\"\u001b[0m\u001b[1;33m)\u001b[0m\u001b[1;33m\u001b[0m\u001b[1;33m\u001b[0m\u001b[0m\n",
      "\u001b[1;31mValueError\u001b[0m: B and D must have the same number of columns."
     ]
    }
   ],
   "source": [
    "v = np.linspace(1, 40, 100)\n",
    "\n",
    "y = []\n",
    "real = []\n",
    "for i in range(len(v)):\n",
    "    vTemp = v[i]\n",
    "    A = np.array([[0,1,0,0],\n",
    "        [0,-4*ca/(m*vTemp),4*ca/m,-2*ca*(lf-lr)/(m*vTemp)],\n",
    "        [0,0,0,1],\n",
    "        [0,-2*ca*(lf-lr)/(iz*vTemp),2*ca*(lf-lr)/iz,-2*ca*(lf**2+lr**2)/(iz*vTemp)]]);\n",
    "    B = np.array([[0,0],\n",
    "        [2*ca/m,0],\n",
    "        [0,0],\n",
    "        [2*ca*lf/iz,0]]);\n",
    "    C = np.array([[1,0,0,0],\n",
    "        [0,1,0,0],\n",
    "        [0,0,1,0],\n",
    "        [0,0,0,1]]);\n",
    "    D = np.array([0,0])\n",
    "    P = np.hstack((B, np.matmul(A, B), np.matmul(np.linalg.matrix_power(A, 2), B), np.matmul(np.linalg.matrix_power(A, 3), B)))\n",
    "    _, s, _ = np.linalg.svd(P)\n",
    "    s1 = max(s)\n",
    "    sn = min(s)\n",
    "    y.append(np.log10(s1 / sn))\n",
    "    sys = control.StateSpace(A, B, C, D)\n",
    "    poles = control.pole(sys)\n",
    "    for j in range(4):\n",
    "        real[j].append(poles[j].real)\n",
    "y = np.array(y)\n",
    "real = np.array(real)\n",
    "plt.figure()\n",
    "plt.plot(v,y)\n",
    "plt.xlabel('$V (m/s)$')\n",
    "plt.ylabel('$\\log_{10}$ $\\dfrac{\\sigma_1}{\\sigma_n}$')"
   ]
  },
  {
   "cell_type": "markdown",
   "metadata": {},
   "source": [
    "## Exercise 1. 2.b"
   ]
  },
  {
   "cell_type": "code",
   "execution_count": null,
   "metadata": {},
   "outputs": [],
   "source": [
    "plt.figure()\n",
    "\n",
    "plt.subplot(2, 2, 1)\n",
    "plt.xlabel('$V (m/s)$')\n",
    "plt.ylabel('$Re(p_1)$')\n",
    "plt.plot(v, real[0])\n",
    "\n",
    "plt.subplot(2, 2, 2)\n",
    "plt.xlabel('$V (m/s)$')\n",
    "plt.ylabel('$Re(p_2)$')\n",
    "plt.plot(v, real[1])\n",
    "\n",
    "plt.subplot(2, 2, 3)\n",
    "plt.xlabel('$V (m/s)$')\n",
    "plt.ylabel('$Re(p_3)$')\n",
    "plt.plot(v, real[2])\n",
    "\n",
    "plt.subplot(2, 2, 4)\n",
    "plt.xlabel('$V (m/s)$')\n",
    "plt.ylabel('$Re(p_4)$')\n",
    "plt.plot(v, real[3])\n"
   ]
  },
  {
   "cell_type": "code",
   "execution_count": null,
   "metadata": {},
   "outputs": [],
   "source": []
  },
  {
   "cell_type": "code",
   "execution_count": null,
   "metadata": {},
   "outputs": [],
   "source": []
  }
 ],
 "metadata": {
  "kernelspec": {
   "display_name": "Python 3",
   "language": "python",
   "name": "python3"
  },
  "language_info": {
   "codemirror_mode": {
    "name": "ipython",
    "version": 3
   },
   "file_extension": ".py",
   "mimetype": "text/x-python",
   "name": "python",
   "nbconvert_exporter": "python",
   "pygments_lexer": "ipython3",
   "version": "3.8.3"
  }
 },
 "nbformat": 4,
 "nbformat_minor": 4
}
