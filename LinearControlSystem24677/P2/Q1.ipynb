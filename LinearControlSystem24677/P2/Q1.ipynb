{
 "cells": [
  {
   "cell_type": "code",
   "execution_count": 50,
   "metadata": {},
   "outputs": [],
   "source": [
    "import numpy as np\n",
    "import matplotlib.pyplot as plt\n",
    "import control\n",
    "from numpy.linalg import matrix_rank\n"
   ]
  },
  {
   "cell_type": "markdown",
   "metadata": {},
   "source": [
    "## Exercise 1. 1."
   ]
  },
  {
   "cell_type": "code",
   "execution_count": 51,
   "metadata": {},
   "outputs": [
    {
     "name": "stdout",
     "output_type": "stream",
     "text": [
      "the rank of the controllability matrix when vx =  2 is\n",
      "4\n",
      "the rank of the observability matrix when vx =  2 is\n",
      "4\n",
      "the rank of the controllability matrix when vx =  5 is\n",
      "4\n",
      "the rank of the observability matrix when vx =  5 is\n",
      "4\n",
      "the rank of the controllability matrix when vx =  8 is\n",
      "4\n",
      "the rank of the observability matrix when vx =  8 is\n",
      "4\n",
      "therefore the system is controllable and observable\n"
     ]
    }
   ],
   "source": [
    "\n",
    "m = 1888.6;\n",
    "ca = 20000;\n",
    "lf = 1.55;\n",
    "lr = 1.39;\n",
    "iz = 25854;\n",
    "for i in range(3):\n",
    "    if i == 0:\n",
    "        vx = 2;\n",
    "    elif i == 1:\n",
    "        vx = 5;\n",
    "    else:\n",
    "        vx = 8;\n",
    "    A = np.array([[0,1,0,0],\n",
    "        [0,-4*ca/(m*vx),4*ca/m,-2*ca*(lf-lr)/(m*vx)],\n",
    "        [0,0,0,1],\n",
    "        [0,-2*ca*(lf-lr)/(iz*vx),2*ca*(lf-lr)/iz,-2*ca*(lf**2+lr**2)/(iz*vx)]]);\n",
    "    B = np.array([[0,0],\n",
    "        [2*ca/m,0],\n",
    "        [0,0],\n",
    "        [2*ca*lf/iz,0]]);\n",
    "\n",
    "    C = np.array([[1,0,0,0],\n",
    "        [0,1,0,0],\n",
    "        [0,0,1,0],\n",
    "        [0,0,0,1]]);\n",
    "\n",
    "    P = np.hstack((B, np.matmul(A, B), np.matmul(np.linalg.matrix_power(A, 2), B), np.matmul(np.linalg.matrix_power(A, 3), B)))\n",
    "    rP = matrix_rank(P)\n",
    "    print('the rank of the controllability matrix when vx = ', vx, 'is')\n",
    "    print(rP)\n",
    "    Q = np.vstack((C, np.matmul(C, A), np.matmul(C, np.linalg.matrix_power(A, 2)), np.matmul(C, np.linalg.matrix_power(A, 3))))\n",
    "    rQ = matrix_rank(Q)\n",
    "    print('the rank of the observability matrix when vx = ', vx, 'is')\n",
    "    print(rQ)\n",
    "print('therefore the system is controllable and observable')"
   ]
  },
  {
   "cell_type": "markdown",
   "metadata": {},
   "source": [
    "## Exercise 1. 2.a"
   ]
  },
  {
   "cell_type": "code",
   "execution_count": 52,
   "metadata": {},
   "outputs": [
    {
     "data": {
      "text/plain": [
       "Text(0, 0.5, '$\\\\log_{10}$ $\\\\dfrac{\\\\sigma_1}{\\\\sigma_n}$')"
      ]
     },
     "execution_count": 52,
     "metadata": {},
     "output_type": "execute_result"
    },
    {
     "data": {
      "image/png": "[encoded data removed]",
      "text/plain": [
       "<Figure size 432x288 with 1 Axes>"
      ]
     },
     "metadata": {
      "needs_background": "light"
     },
     "output_type": "display_data"
    }
   ],
   "source": [
    "v = np.linspace(1, 40, 100)\n",
    "\n",
    "y = []\n",
    "real = []\n",
    "for i in range(4):\n",
    "    real.append([])\n",
    "for i in range(len(v)):\n",
    "    vTemp = v[i]\n",
    "    A = np.array([[0,1,0,0],\n",
    "        [0,-4*ca/(m*vTemp),4*ca/m,-2*ca*(lf-lr)/(m*vTemp)],\n",
    "        [0,0,0,1],\n",
    "        [0,-2*ca*(lf-lr)/(iz*vTemp),2*ca*(lf-lr)/iz,-2*ca*(lf**2+lr**2)/(iz*vTemp)]]);\n",
    "    B = np.array([[0,0],\n",
    "        [2*ca/m,0],\n",
    "        [0,0],\n",
    "        [2*ca*lf/iz,0]]);\n",
    "    C = np.array([[1,0,0,0],\n",
    "        [0,1,0,0],\n",
    "        [0,0,1,0],\n",
    "        [0,0,0,1]]);\n",
    "    D = np.array([[0,0],[0,0],[0,0],[0,0]])\n",
    "    P = np.hstack((B, np.matmul(A, B), np.matmul(np.linalg.matrix_power(A, 2), B), np.matmul(np.linalg.matrix_power(A, 3), B)))\n",
    "    _, s, _ = np.linalg.svd(P)\n",
    "    s1 = max(s)\n",
    "    sn = min(s)\n",
    "    y.append(np.log10(s1 / sn))\n",
    "    sys = control.StateSpace(A, B, C, D)\n",
    "    poles = control.pole(sys)\n",
    "    for j in range(4):\n",
    "        real[j].append(poles[j].real)\n",
    "y = np.array(y)\n",
    "real = np.array(real)\n",
    "plt.figure()\n",
    "plt.plot(v,y)\n",
    "plt.xlabel('$V (m/s)$')\n",
    "plt.ylabel('$\\log_{10}$ $\\dfrac{\\sigma_1}{\\sigma_n}$')"
   ]
  },
  {
   "cell_type": "markdown",
   "metadata": {},
   "source": [
    "## Exercise 1. 2.b"
   ]
  },
  {
   "cell_type": "code",
   "execution_count": 53,
   "metadata": {},
   "outputs": [
    {
     "data": {
      "text/plain": [
       "Text(0, 0.5, '$Re(p_4)$')"
      ]
     },
     "execution_count": 53,
     "metadata": {},
     "output_type": "execute_result"
    },
    {
     "data": {
      "image/png": "[encoded data removed]",
      "text/plain": [
       "<Figure size 432x288 with 4 Axes>"
      ]
     },
     "metadata": {
      "needs_background": "light"
     },
     "output_type": "display_data"
    }
   ],
   "source": [
    "plt.figure()\n",
    "\n",
    "plt.subplot(2, 2, 1)\n",
    "plt.plot(v, real[0])\n",
    "plt.xlabel('$V (m/s)$')\n",
    "plt.ylabel('$Re(p_1)$')\n",
    "\n",
    "plt.subplot(2, 2, 2)\n",
    "plt.plot(v, real[1])\n",
    "plt.xlabel('$V (m/s)$')\n",
    "plt.ylabel('$Re(p_2)$')\n",
    "\n",
    "plt.subplot(2, 2, 3)\n",
    "plt.plot(v, real[2])\n",
    "plt.xlabel('$V (m/s)$')\n",
    "plt.ylabel('$Re(p_3)$')\n",
    "\n",
    "plt.subplot(2, 2, 4)\n",
    "plt.plot(v, real[3])\n",
    "plt.xlabel('$V (m/s)$')\n",
    "plt.ylabel('$Re(p_4)$')"
   ]
  },
  {
   "cell_type": "code",
   "execution_count": null,
   "metadata": {},
   "outputs": [],
   "source": []
  },
  {
   "cell_type": "code",
   "execution_count": null,
   "metadata": {},
   "outputs": [],
   "source": []
  }
 ],
 "metadata": {
  "kernelspec": {
   "display_name": "Python 3",
   "language": "python",
   "name": "python3"
  },
  "language_info": {
   "codemirror_mode": {
    "name": "ipython",
    "version": 3
   },
   "file_extension": ".py",
   "mimetype": "text/x-python",
   "name": "python",
   "nbconvert_exporter": "python",
   "pygments_lexer": "ipython3",
   "version": "3.8.3"
  }
 },
 "nbformat": 4,
 "nbformat_minor": 4
}
